{
 "cells": [
  {
   "cell_type": "markdown",
   "metadata": {},
   "source": [
    "# Dit is een heading\n",
    "Welkom by jupyter\n",
    "\n",
    "* lijstje\n",
    "* items"
   ]
  },
  {
   "cell_type": "code",
   "execution_count": 2,
   "metadata": {
    "collapsed": false
   },
   "outputs": [
    {
     "data": {
      "text/html": [
       "<script>\n",
       "code_show=true; \n",
       "function code_toggle() {\n",
       " if (code_show){\n",
       " $('div.input').hide();\n",
       " } else {\n",
       " $('div.input').show();\n",
       " }\n",
       " code_show = !code_show\n",
       "} \n",
       "$( document ).ready(code_toggle);\n",
       "</script>\n",
       "The raw code for this IPython notebook is by default hidden for easier reading.\n",
       "To toggle on/off the raw code, click <a href=\"javascript:code_toggle()\">here</a>."
      ],
      "text/plain": [
       "<IPython.core.display.HTML object>"
      ]
     },
     "execution_count": 2,
     "metadata": {},
     "output_type": "execute_result"
    }
   ],
   "source": [
    "from IPython.display import HTML\n",
    "HTML('''<script>\n",
    "code_show=true; \n",
    "function code_toggle() {\n",
    " if (code_show){\n",
    " $('div.input').hide();\n",
    " } else {\n",
    " $('div.input').show();\n",
    " }\n",
    " code_show = !code_show\n",
    "} \n",
    "$( document ).ready(code_toggle);\n",
    "</script>\n",
    "The raw code for this IPython notebook is by default hidden for easier reading.\n",
    "To toggle on/off the raw code, click <a href=\"javascript:code_toggle()\">here</a>.''')"
   ]
  },
  {
   "cell_type": "code",
   "execution_count": 3,
   "metadata": {
    "collapsed": false
   },
   "outputs": [
    {
     "name": "stdout",
     "output_type": "stream",
     "text": [
      "What does this button do? hio\n"
     ]
    }
   ],
   "source": [
    "txt = input('What does this button do? ')"
   ]
  },
  {
   "cell_type": "code",
   "execution_count": 4,
   "metadata": {
    "collapsed": false
   },
   "outputs": [],
   "source": [
    "name = 'jan'"
   ]
  },
  {
   "cell_type": "code",
   "execution_count": 5,
   "metadata": {
    "collapsed": false
   },
   "outputs": [
    {
     "data": {
      "text/plain": [
       "'jan'"
      ]
     },
     "execution_count": 5,
     "metadata": {},
     "output_type": "execute_result"
    }
   ],
   "source": [
    "name"
   ]
  },
  {
   "cell_type": "code",
   "execution_count": 6,
   "metadata": {
    "collapsed": false
   },
   "outputs": [
    {
     "data": {
      "application/json": {
       "cell": {
        "!": "OSMagics",
        "HTML": "Other",
        "SVG": "Other",
        "bash": "Other",
        "capture": "ExecutionMagics",
        "cmd": "Other",
        "debug": "ExecutionMagics",
        "file": "Other",
        "html": "DisplayMagics",
        "javascript": "DisplayMagics",
        "js": "DisplayMagics",
        "latex": "DisplayMagics",
        "perl": "Other",
        "prun": "ExecutionMagics",
        "pypy": "Other",
        "python": "Other",
        "python2": "Other",
        "python3": "Other",
        "ruby": "Other",
        "script": "ScriptMagics",
        "sh": "Other",
        "svg": "DisplayMagics",
        "sx": "OSMagics",
        "system": "OSMagics",
        "time": "ExecutionMagics",
        "timeit": "ExecutionMagics",
        "writefile": "OSMagics"
       },
       "line": {
        "alias": "OSMagics",
        "alias_magic": "BasicMagics",
        "autocall": "AutoMagics",
        "automagic": "AutoMagics",
        "autosave": "KernelMagics",
        "bookmark": "OSMagics",
        "cd": "OSMagics",
        "clear": "KernelMagics",
        "cls": "KernelMagics",
        "colors": "BasicMagics",
        "config": "ConfigMagics",
        "connect_info": "KernelMagics",
        "copy": "Other",
        "ddir": "Other",
        "debug": "ExecutionMagics",
        "dhist": "OSMagics",
        "dirs": "OSMagics",
        "doctest_mode": "BasicMagics",
        "echo": "Other",
        "ed": "Other",
        "edit": "KernelMagics",
        "env": "OSMagics",
        "gui": "BasicMagics",
        "hist": "Other",
        "history": "HistoryMagics",
        "killbgscripts": "ScriptMagics",
        "ldir": "Other",
        "less": "KernelMagics",
        "load": "CodeMagics",
        "load_ext": "ExtensionMagics",
        "loadpy": "CodeMagics",
        "logoff": "LoggingMagics",
        "logon": "LoggingMagics",
        "logstart": "LoggingMagics",
        "logstate": "LoggingMagics",
        "logstop": "LoggingMagics",
        "ls": "Other",
        "lsmagic": "BasicMagics",
        "macro": "ExecutionMagics",
        "magic": "BasicMagics",
        "matplotlib": "PylabMagics",
        "mkdir": "Other",
        "more": "KernelMagics",
        "notebook": "BasicMagics",
        "page": "BasicMagics",
        "pastebin": "CodeMagics",
        "pdb": "ExecutionMagics",
        "pdef": "NamespaceMagics",
        "pdoc": "NamespaceMagics",
        "pfile": "NamespaceMagics",
        "pinfo": "NamespaceMagics",
        "pinfo2": "NamespaceMagics",
        "popd": "OSMagics",
        "pprint": "BasicMagics",
        "precision": "BasicMagics",
        "profile": "BasicMagics",
        "prun": "ExecutionMagics",
        "psearch": "NamespaceMagics",
        "psource": "NamespaceMagics",
        "pushd": "OSMagics",
        "pwd": "OSMagics",
        "pycat": "OSMagics",
        "pylab": "PylabMagics",
        "qtconsole": "KernelMagics",
        "quickref": "BasicMagics",
        "recall": "HistoryMagics",
        "rehashx": "OSMagics",
        "reload_ext": "ExtensionMagics",
        "ren": "Other",
        "rep": "Other",
        "rerun": "HistoryMagics",
        "reset": "NamespaceMagics",
        "reset_selective": "NamespaceMagics",
        "rmdir": "Other",
        "run": "ExecutionMagics",
        "save": "CodeMagics",
        "sc": "OSMagics",
        "set_env": "OSMagics",
        "store": "StoreMagics",
        "sx": "OSMagics",
        "system": "OSMagics",
        "tb": "ExecutionMagics",
        "time": "ExecutionMagics",
        "timeit": "ExecutionMagics",
        "unalias": "OSMagics",
        "unload_ext": "ExtensionMagics",
        "who": "NamespaceMagics",
        "who_ls": "NamespaceMagics",
        "whos": "NamespaceMagics",
        "xdel": "NamespaceMagics",
        "xmode": "BasicMagics"
       }
      },
      "text/plain": [
       "Available line magics:\n",
       "%alias  %alias_magic  %autocall  %automagic  %autosave  %bookmark  %cd  %clear  %cls  %colors  %config  %connect_info  %copy  %ddir  %debug  %dhist  %dirs  %doctest_mode  %echo  %ed  %edit  %env  %gui  %hist  %history  %killbgscripts  %ldir  %less  %load  %load_ext  %loadpy  %logoff  %logon  %logstart  %logstate  %logstop  %ls  %lsmagic  %macro  %magic  %matplotlib  %mkdir  %more  %notebook  %page  %pastebin  %pdb  %pdef  %pdoc  %pfile  %pinfo  %pinfo2  %popd  %pprint  %precision  %profile  %prun  %psearch  %psource  %pushd  %pwd  %pycat  %pylab  %qtconsole  %quickref  %recall  %rehashx  %reload_ext  %ren  %rep  %rerun  %reset  %reset_selective  %rmdir  %run  %save  %sc  %set_env  %store  %sx  %system  %tb  %time  %timeit  %unalias  %unload_ext  %who  %who_ls  %whos  %xdel  %xmode\n",
       "\n",
       "Available cell magics:\n",
       "%%!  %%HTML  %%SVG  %%bash  %%capture  %%cmd  %%debug  %%file  %%html  %%javascript  %%js  %%latex  %%perl  %%prun  %%pypy  %%python  %%python2  %%python3  %%ruby  %%script  %%sh  %%svg  %%sx  %%system  %%time  %%timeit  %%writefile\n",
       "\n",
       "Automagic is ON, % prefix IS NOT needed for line magics."
      ]
     },
     "execution_count": 6,
     "metadata": {},
     "output_type": "execute_result"
    }
   ],
   "source": [
    "%lsmagic"
   ]
  },
  {
   "cell_type": "code",
   "execution_count": 7,
   "metadata": {
    "collapsed": false
   },
   "outputs": [],
   "source": [
    "%matplotlib inline\n",
    "import mpld3\n",
    "mpld3.enable_notebook()\n"
   ]
  },
  {
   "cell_type": "code",
   "execution_count": 8,
   "metadata": {
    "collapsed": false
   },
   "outputs": [
    {
     "data": {
      "image/png": "[encoded data removed]",
      "text/html": [
       "\n",
       "\n",
       "<style>\n",
       "\n",
       "</style>\n",
       "\n",
       "<div id=\"fig_el564421214632810887588304539\"></div>\n",
       "<script>\n",
       "function mpld3_load_lib(url, callback){\n",
       "  var s = document.createElement('script');\n",
       "  s.src = url;\n",
       "  s.async = true;\n",
       "  s.onreadystatechange = s.onload = callback;\n",
       "  s.onerror = function(){console.warn(\"failed to load library \" + url);};\n",
       "  document.getElementsByTagName(\"head\")[0].appendChild(s);\n",
       "}\n",
       "\n",
       "if(typeof(mpld3) !== \"undefined\" && mpld3._mpld3IsLoaded){\n",
       "   // already loaded: just create the figure\n",
       "   !function(mpld3){\n",
       "       \n",
       "       mpld3.draw_figure(\"fig_el564421214632810887588304539\", {\"axes\": [{\"lines\": [], \"sharey\": [], \"sharex\": [], \"yscale\": \"linear\", \"axes\": [{\"scale\": \"linear\", \"grid\": {\"gridOn\": false}, \"nticks\": 9, \"fontsize\": 10.0, \"tickformat\": null, \"tickvalues\": null, \"position\": \"bottom\"}, {\"scale\": \"linear\", \"grid\": {\"gridOn\": false}, \"nticks\": 9, \"fontsize\": 10.0, \"tickformat\": null, \"tickvalues\": null, \"position\": \"left\"}], \"collections\": [{\"edgewidths\": [1.0], \"id\": \"el56442121463847736\", \"offsets\": \"data01\", \"pathcoordinates\": \"display\", \"offsetcoordinates\": \"data\", \"alphas\": [0.5], \"edgecolors\": [\"#000000\"], \"facecolors\": [\"#FFE200\", \"#76FF80\", \"#89FF6C\", \"#000084\", \"#FF9F00\", \"#00009A\", \"#42FFB3\", \"#0000FF\", \"#FFAA00\", \"#12FCE4\", \"#FFB100\", \"#46FFB0\", \"#0030FF\", \"#0000FF\", \"#002CFF\", \"#FFE900\", \"#FE1200\", \"#0010FF\", \"#7F0000\", \"#0064FF\", \"#0018FF\", \"#FF6B00\", \"#FF2100\", \"#0010FF\", \"#EC0300\", \"#00BCFF\", \"#C3FF32\", \"#FF5C00\", \"#00A8FF\", \"#4CFFAA\", \"#8DFF69\", \"#880000\", \"#00007F\", \"#E4FF12\", \"#B3FF42\", \"#FF3700\", \"#DA0000\", \"#0098FF\", \"#001CFF\", \"#00007F\", \"#9DFF59\", \"#FF4D00\", \"#FF3400\", \"#FF9000\", \"#0070FF\", \"#DA0000\", \"#FFE900\", \"#70FF86\", \"#C0FF36\", \"#00ACFF\"], \"zorder\": 1, \"pathtransforms\": [[21.115094063260642, 0.0, 0.0, 21.115094063260642, 0.0, 0.0], [12.384328922332047, 0.0, 0.0, 12.384328922332047, 0.0, 0.0], [14.655332232664215, 0.0, 0.0, 14.655332232664215, 0.0, 0.0], [1.9046924371033624, 0.0, 0.0, 1.9046924371033624, 0.0, 0.0], [23.027627157794374, 0.0, 0.0, 23.027627157794374, 0.0, 0.0], [12.317622988285175, 0.0, 0.0, 12.317622988285175, 0.0, 0.0], [1.5073608994363255, 0.0, 0.0, 1.5073608994363255, 0.0, 0.0], [2.034831392651122, 0.0, 0.0, 2.034831392651122, 0.0, 0.0], [1.4818268981106808, 0.0, 0.0, 1.4818268981106808, 0.0, 0.0], [5.684677450090204, 0.0, 0.0, 5.684677450090204, 0.0, 0.0], [25.56761053055127, 0.0, 0.0, 25.56761053055127, 0.0, 0.0], [3.301255880748923, 0.0, 0.0, 3.301255880748923, 0.0, 0.0], [24.183217936484066, 0.0, 0.0, 24.183217936484066, 0.0, 0.0], [1.4779882146969654, 0.0, 0.0, 1.4779882146969654, 0.0, 0.0], [22.564939079342018, 0.0, 0.0, 22.564939079342018, 0.0, 0.0], [4.506470963213327, 0.0, 0.0, 4.506470963213327, 0.0, 0.0], [22.73390274553044, 0.0, 0.0, 22.73390274553044, 0.0, 0.0], [6.739662630109336, 0.0, 0.0, 6.739662630109336, 0.0, 0.0], [13.036859648422368, 0.0, 0.0, 13.036859648422368, 0.0, 0.0], [0.5058601572184279, 0.0, 0.0, 0.5058601572184279, 0.0, 0.0], [14.817845478172579, 0.0, 0.0, 14.817845478172579, 0.0, 0.0], [2.5457066770562906, 0.0, 0.0, 2.5457066770562906, 0.0, 0.0], [14.372992468929478, 0.0, 0.0, 14.372992468929478, 0.0, 0.0], [17.185539254755795, 0.0, 0.0, 17.185539254755795, 0.0, 0.0], [12.789752759983786, 0.0, 0.0, 12.789752759983786, 0.0, 0.0], [7.391874048138019, 0.0, 0.0, 7.391874048138019, 0.0, 0.0], [7.064354176936587, 0.0, 0.0, 7.064354176936587, 0.0, 0.0], [16.21990023944448, 0.0, 0.0, 16.21990023944448, 0.0, 0.0], [14.372133460107587, 0.0, 0.0, 14.372133460107587, 0.0, 0.0], [24.487958179135628, 0.0, 0.0, 24.487958179135628, 0.0, 0.0], [1.3467991470210805, 0.0, 0.0, 1.3467991470210805, 0.0, 0.0], [10.235350450256451, 0.0, 0.0, 10.235350450256451, 0.0, 0.0], [10.488602188115813, 0.0, 0.0, 10.488602188115813, 0.0, 0.0], [2.7260819794476294, 0.0, 0.0, 2.7260819794476294, 0.0, 0.0], [18.93603831133992, 0.0, 0.0, 18.93603831133992, 0.0, 0.0], [4.673702328698526, 0.0, 0.0, 4.673702328698526, 0.0, 0.0], [9.768077124745536, 0.0, 0.0, 9.768077124745536, 0.0, 0.0], [11.701760350699782, 0.0, 0.0, 11.701760350699782, 0.0, 0.0], [20.049783603274996, 0.0, 0.0, 20.049783603274996, 0.0, 0.0], [5.3801313899088505, 0.0, 0.0, 5.3801313899088505, 0.0, 0.0], [5.08921069649173, 0.0, 0.0, 5.08921069649173, 0.0, 0.0], [1.0396502807938415, 0.0, 0.0, 1.0396502807938415, 0.0, 0.0], [24.417513573414368, 0.0, 0.0, 24.417513573414368, 0.0, 0.0], [1.3763316551345506, 0.0, 0.0, 1.3763316551345506, 0.0, 0.0], [7.222618703499843, 0.0, 0.0, 7.222618703499843, 0.0, 0.0], [20.136279006410593, 0.0, 0.0, 20.136279006410593, 0.0, 0.0], [15.019135138305971, 0.0, 0.0, 15.019135138305971, 0.0, 0.0], [23.77046037951558, 0.0, 0.0, 23.77046037951558, 0.0, 0.0], [25.219123136354465, 0.0, 0.0, 25.219123136354465, 0.0, 0.0], [9.323506044913055, 0.0, 0.0, 9.323506044913055, 0.0, 0.0]], \"paths\": [[[[0.0, -0.5], [0.13260155, -0.5], [0.25978993539242673, -0.44731684579412084], [0.3535533905932738, -0.3535533905932738], [0.44731684579412084, -0.25978993539242673], [0.5, -0.13260155], [0.5, 0.0], [0.5, 0.13260155], [0.44731684579412084, 0.25978993539242673], [0.3535533905932738, 0.3535533905932738], [0.25978993539242673, 0.44731684579412084], [0.13260155, 0.5], [0.0, 0.5], [-0.13260155, 0.5], [-0.25978993539242673, 0.44731684579412084], [-0.3535533905932738, 0.3535533905932738], [-0.44731684579412084, 0.25978993539242673], [-0.5, 0.13260155], [-0.5, 0.0], [-0.5, -0.13260155], [-0.44731684579412084, -0.25978993539242673], [-0.3535533905932738, -0.3535533905932738], [-0.25978993539242673, -0.44731684579412084], [-0.13260155, -0.5], [0.0, -0.5]], [\"M\", \"C\", \"C\", \"C\", \"C\", \"C\", \"C\", \"C\", \"C\", \"Z\"]]], \"yindex\": 1, \"xindex\": 0}], \"texts\": [], \"bbox\": [0.125, 0.125, 0.775, 0.775], \"axesbg\": \"#FFFFFF\", \"images\": [], \"xscale\": \"linear\", \"xlim\": [-0.2, 1.2000000000000002], \"xdomain\": [-0.2, 1.2000000000000002], \"id\": \"el56442121463283272\", \"markers\": [], \"ylim\": [-0.2, 1.2000000000000002], \"zoomable\": true, \"ydomain\": [-0.2, 1.2000000000000002], \"paths\": [], \"axesbgalpha\": null}], \"data\": {\"data01\": [[0.14521182523819842, 0.919991492768162], [0.6995890765343502, 0.31630001660858864], [0.9696732294885051, 0.5254700324875277], [0.5170264238124056, 0.5193700259005704], [0.5581233480465749, 0.19642620953633205], [0.8334568302621609, 0.6822669614032592], [0.04989429355492958, 0.5762794035872775], [0.26611713725814734, 0.5313722546140536], [0.44838958508020377, 0.4481592893093568], [0.9916272578703784, 0.9246066186919268], [0.16040333730522693, 0.7676787093631778], [0.6437625823997188, 0.9063010245602043], [0.6001299191533072, 0.6532963394298115], [0.7794966137205356, 0.7937974817253932], [0.28132198189990953, 0.8232046752755723], [0.9362480832563329, 0.6233553104167747], [0.7803642248320465, 0.10761666875325482], [0.30551583819176376, 0.816612664063087], [0.8578778952497907, 0.440231691507998], [0.8634898299039694, 0.44320685082019695], [0.9443227221543841, 0.46332126742199475], [0.864105826321044, 0.5028089496739746], [0.02017251280338006, 0.7545810909908318], [0.8587304432822395, 0.6886838787284911], [0.08190356940645516, 0.9893724668402192], [0.5432382011429636, 0.056184773657455445], [0.6313399747044598, 0.1812806382744896], [0.8530569945660491, 0.9767587700034597], [0.12048566111070103, 0.5595944494668575], [0.3319476002188201, 0.7024449155234206], [0.7751380988302587, 0.5711061284157533], [0.5655528597462606, 0.40277246352613494], [0.538105595295835, 0.7684278150687696], [0.9797875492027108, 0.20502420827858903], [0.8646058123346735, 0.1689129853541863], [0.38784625971556863, 0.9135142117845014], [0.14627278580787018, 0.5145966157978216], [0.4735101844639481, 0.582572106601473], [0.41643627586689425, 0.6351041198271561], [0.5386143020197486, 0.42172164146984914], [0.9065304948736318, 0.5313150233864385], [0.191406843419335, 0.10242519913127146], [0.5126992628293953, 0.11221358715605134], [0.844642947219517, 0.4352023977382755], [0.7693157804711551, 0.5979445120457263], [0.2442302104812637, 0.6865591945156667], [0.10145989576413283, 0.01623028773966606], [0.257522818788817, 0.2493129584553706], [0.8069472714851413, 0.10007060647950439], [0.2878249941465869, 0.6044810082956278]]}, \"id\": \"el56442121463281088\", \"plugins\": [{\"type\": \"reset\"}, {\"button\": true, \"type\": \"zoom\", \"enabled\": false}, {\"button\": true, \"type\": \"boxzoom\", \"enabled\": false}], \"width\": 432.0, \"height\": 288.0});\n",
       "   }(mpld3);\n",
       "}else if(typeof define === \"function\" && define.amd){\n",
       "   // require.js is available: use it to load d3/mpld3\n",
       "   require.config({paths: {d3: \"https://mpld3.github.io/js/d3.v3.min\"}});\n",
       "   require([\"d3\"], function(d3){\n",
       "      window.d3 = d3;\n",
       "      mpld3_load_lib(\"https://mpld3.github.io/js/mpld3.v0.2.js\", function(){\n",
       "         \n",
       "         mpld3.draw_figure(\"fig_el564421214632810887588304539\", {\"axes\": [{\"lines\": [], \"sharey\": [], \"sharex\": [], \"yscale\": \"linear\", \"axes\": [{\"scale\": \"linear\", \"grid\": {\"gridOn\": false}, \"nticks\": 9, \"fontsize\": 10.0, \"tickformat\": null, \"tickvalues\": null, \"position\": \"bottom\"}, {\"scale\": \"linear\", \"grid\": {\"gridOn\": false}, \"nticks\": 9, \"fontsize\": 10.0, \"tickformat\": null, \"tickvalues\": null, \"position\": \"left\"}], \"collections\": [{\"edgewidths\": [1.0], \"id\": \"el56442121463847736\", \"offsets\": \"data01\", \"pathcoordinates\": \"display\", \"offsetcoordinates\": \"data\", \"alphas\": [0.5], \"edgecolors\": [\"#000000\"], \"facecolors\": [\"#FFE200\", \"#76FF80\", \"#89FF6C\", \"#000084\", \"#FF9F00\", \"#00009A\", \"#42FFB3\", \"#0000FF\", \"#FFAA00\", \"#12FCE4\", \"#FFB100\", \"#46FFB0\", \"#0030FF\", \"#0000FF\", \"#002CFF\", \"#FFE900\", \"#FE1200\", \"#0010FF\", \"#7F0000\", \"#0064FF\", \"#0018FF\", \"#FF6B00\", \"#FF2100\", \"#0010FF\", \"#EC0300\", \"#00BCFF\", \"#C3FF32\", \"#FF5C00\", \"#00A8FF\", \"#4CFFAA\", \"#8DFF69\", \"#880000\", \"#00007F\", \"#E4FF12\", \"#B3FF42\", \"#FF3700\", \"#DA0000\", \"#0098FF\", \"#001CFF\", \"#00007F\", \"#9DFF59\", \"#FF4D00\", \"#FF3400\", \"#FF9000\", \"#0070FF\", \"#DA0000\", \"#FFE900\", \"#70FF86\", \"#C0FF36\", \"#00ACFF\"], \"zorder\": 1, \"pathtransforms\": [[21.115094063260642, 0.0, 0.0, 21.115094063260642, 0.0, 0.0], [12.384328922332047, 0.0, 0.0, 12.384328922332047, 0.0, 0.0], [14.655332232664215, 0.0, 0.0, 14.655332232664215, 0.0, 0.0], [1.9046924371033624, 0.0, 0.0, 1.9046924371033624, 0.0, 0.0], [23.027627157794374, 0.0, 0.0, 23.027627157794374, 0.0, 0.0], [12.317622988285175, 0.0, 0.0, 12.317622988285175, 0.0, 0.0], [1.5073608994363255, 0.0, 0.0, 1.5073608994363255, 0.0, 0.0], [2.034831392651122, 0.0, 0.0, 2.034831392651122, 0.0, 0.0], [1.4818268981106808, 0.0, 0.0, 1.4818268981106808, 0.0, 0.0], [5.684677450090204, 0.0, 0.0, 5.684677450090204, 0.0, 0.0], [25.56761053055127, 0.0, 0.0, 25.56761053055127, 0.0, 0.0], [3.301255880748923, 0.0, 0.0, 3.301255880748923, 0.0, 0.0], [24.183217936484066, 0.0, 0.0, 24.183217936484066, 0.0, 0.0], [1.4779882146969654, 0.0, 0.0, 1.4779882146969654, 0.0, 0.0], [22.564939079342018, 0.0, 0.0, 22.564939079342018, 0.0, 0.0], [4.506470963213327, 0.0, 0.0, 4.506470963213327, 0.0, 0.0], [22.73390274553044, 0.0, 0.0, 22.73390274553044, 0.0, 0.0], [6.739662630109336, 0.0, 0.0, 6.739662630109336, 0.0, 0.0], [13.036859648422368, 0.0, 0.0, 13.036859648422368, 0.0, 0.0], [0.5058601572184279, 0.0, 0.0, 0.5058601572184279, 0.0, 0.0], [14.817845478172579, 0.0, 0.0, 14.817845478172579, 0.0, 0.0], [2.5457066770562906, 0.0, 0.0, 2.5457066770562906, 0.0, 0.0], [14.372992468929478, 0.0, 0.0, 14.372992468929478, 0.0, 0.0], [17.185539254755795, 0.0, 0.0, 17.185539254755795, 0.0, 0.0], [12.789752759983786, 0.0, 0.0, 12.789752759983786, 0.0, 0.0], [7.391874048138019, 0.0, 0.0, 7.391874048138019, 0.0, 0.0], [7.064354176936587, 0.0, 0.0, 7.064354176936587, 0.0, 0.0], [16.21990023944448, 0.0, 0.0, 16.21990023944448, 0.0, 0.0], [14.372133460107587, 0.0, 0.0, 14.372133460107587, 0.0, 0.0], [24.487958179135628, 0.0, 0.0, 24.487958179135628, 0.0, 0.0], [1.3467991470210805, 0.0, 0.0, 1.3467991470210805, 0.0, 0.0], [10.235350450256451, 0.0, 0.0, 10.235350450256451, 0.0, 0.0], [10.488602188115813, 0.0, 0.0, 10.488602188115813, 0.0, 0.0], [2.7260819794476294, 0.0, 0.0, 2.7260819794476294, 0.0, 0.0], [18.93603831133992, 0.0, 0.0, 18.93603831133992, 0.0, 0.0], [4.673702328698526, 0.0, 0.0, 4.673702328698526, 0.0, 0.0], [9.768077124745536, 0.0, 0.0, 9.768077124745536, 0.0, 0.0], [11.701760350699782, 0.0, 0.0, 11.701760350699782, 0.0, 0.0], [20.049783603274996, 0.0, 0.0, 20.049783603274996, 0.0, 0.0], [5.3801313899088505, 0.0, 0.0, 5.3801313899088505, 0.0, 0.0], [5.08921069649173, 0.0, 0.0, 5.08921069649173, 0.0, 0.0], [1.0396502807938415, 0.0, 0.0, 1.0396502807938415, 0.0, 0.0], [24.417513573414368, 0.0, 0.0, 24.417513573414368, 0.0, 0.0], [1.3763316551345506, 0.0, 0.0, 1.3763316551345506, 0.0, 0.0], [7.222618703499843, 0.0, 0.0, 7.222618703499843, 0.0, 0.0], [20.136279006410593, 0.0, 0.0, 20.136279006410593, 0.0, 0.0], [15.019135138305971, 0.0, 0.0, 15.019135138305971, 0.0, 0.0], [23.77046037951558, 0.0, 0.0, 23.77046037951558, 0.0, 0.0], [25.219123136354465, 0.0, 0.0, 25.219123136354465, 0.0, 0.0], [9.323506044913055, 0.0, 0.0, 9.323506044913055, 0.0, 0.0]], \"paths\": [[[[0.0, -0.5], [0.13260155, -0.5], [0.25978993539242673, -0.44731684579412084], [0.3535533905932738, -0.3535533905932738], [0.44731684579412084, -0.25978993539242673], [0.5, -0.13260155], [0.5, 0.0], [0.5, 0.13260155], [0.44731684579412084, 0.25978993539242673], [0.3535533905932738, 0.3535533905932738], [0.25978993539242673, 0.44731684579412084], [0.13260155, 0.5], [0.0, 0.5], [-0.13260155, 0.5], [-0.25978993539242673, 0.44731684579412084], [-0.3535533905932738, 0.3535533905932738], [-0.44731684579412084, 0.25978993539242673], [-0.5, 0.13260155], [-0.5, 0.0], [-0.5, -0.13260155], [-0.44731684579412084, -0.25978993539242673], [-0.3535533905932738, -0.3535533905932738], [-0.25978993539242673, -0.44731684579412084], [-0.13260155, -0.5], [0.0, -0.5]], [\"M\", \"C\", \"C\", \"C\", \"C\", \"C\", \"C\", \"C\", \"C\", \"Z\"]]], \"yindex\": 1, \"xindex\": 0}], \"texts\": [], \"bbox\": [0.125, 0.125, 0.775, 0.775], \"axesbg\": \"#FFFFFF\", \"images\": [], \"xscale\": \"linear\", \"xlim\": [-0.2, 1.2000000000000002], \"xdomain\": [-0.2, 1.2000000000000002], \"id\": \"el56442121463283272\", \"markers\": [], \"ylim\": [-0.2, 1.2000000000000002], \"zoomable\": true, \"ydomain\": [-0.2, 1.2000000000000002], \"paths\": [], \"axesbgalpha\": null}], \"data\": {\"data01\": [[0.14521182523819842, 0.919991492768162], [0.6995890765343502, 0.31630001660858864], [0.9696732294885051, 0.5254700324875277], [0.5170264238124056, 0.5193700259005704], [0.5581233480465749, 0.19642620953633205], [0.8334568302621609, 0.6822669614032592], [0.04989429355492958, 0.5762794035872775], [0.26611713725814734, 0.5313722546140536], [0.44838958508020377, 0.4481592893093568], [0.9916272578703784, 0.9246066186919268], [0.16040333730522693, 0.7676787093631778], [0.6437625823997188, 0.9063010245602043], [0.6001299191533072, 0.6532963394298115], [0.7794966137205356, 0.7937974817253932], [0.28132198189990953, 0.8232046752755723], [0.9362480832563329, 0.6233553104167747], [0.7803642248320465, 0.10761666875325482], [0.30551583819176376, 0.816612664063087], [0.8578778952497907, 0.440231691507998], [0.8634898299039694, 0.44320685082019695], [0.9443227221543841, 0.46332126742199475], [0.864105826321044, 0.5028089496739746], [0.02017251280338006, 0.7545810909908318], [0.8587304432822395, 0.6886838787284911], [0.08190356940645516, 0.9893724668402192], [0.5432382011429636, 0.056184773657455445], [0.6313399747044598, 0.1812806382744896], [0.8530569945660491, 0.9767587700034597], [0.12048566111070103, 0.5595944494668575], [0.3319476002188201, 0.7024449155234206], [0.7751380988302587, 0.5711061284157533], [0.5655528597462606, 0.40277246352613494], [0.538105595295835, 0.7684278150687696], [0.9797875492027108, 0.20502420827858903], [0.8646058123346735, 0.1689129853541863], [0.38784625971556863, 0.9135142117845014], [0.14627278580787018, 0.5145966157978216], [0.4735101844639481, 0.582572106601473], [0.41643627586689425, 0.6351041198271561], [0.5386143020197486, 0.42172164146984914], [0.9065304948736318, 0.5313150233864385], [0.191406843419335, 0.10242519913127146], [0.5126992628293953, 0.11221358715605134], [0.844642947219517, 0.4352023977382755], [0.7693157804711551, 0.5979445120457263], [0.2442302104812637, 0.6865591945156667], [0.10145989576413283, 0.01623028773966606], [0.257522818788817, 0.2493129584553706], [0.8069472714851413, 0.10007060647950439], [0.2878249941465869, 0.6044810082956278]]}, \"id\": \"el56442121463281088\", \"plugins\": [{\"type\": \"reset\"}, {\"button\": true, \"type\": \"zoom\", \"enabled\": false}, {\"button\": true, \"type\": \"boxzoom\", \"enabled\": false}], \"width\": 432.0, \"height\": 288.0});\n",
       "      });\n",
       "    });\n",
       "}else{\n",
       "    // require.js not available: dynamically load d3 & mpld3\n",
       "    mpld3_load_lib(\"https://mpld3.github.io/js/d3.v3.min.js\", function(){\n",
       "         mpld3_load_lib(\"https://mpld3.github.io/js/mpld3.v0.2.js\", function(){\n",
       "                 \n",
       "                 mpld3.draw_figure(\"fig_el564421214632810887588304539\", {\"axes\": [{\"lines\": [], \"sharey\": [], \"sharex\": [], \"yscale\": \"linear\", \"axes\": [{\"scale\": \"linear\", \"grid\": {\"gridOn\": false}, \"nticks\": 9, \"fontsize\": 10.0, \"tickformat\": null, \"tickvalues\": null, \"position\": \"bottom\"}, {\"scale\": \"linear\", \"grid\": {\"gridOn\": false}, \"nticks\": 9, \"fontsize\": 10.0, \"tickformat\": null, \"tickvalues\": null, \"position\": \"left\"}], \"collections\": [{\"edgewidths\": [1.0], \"id\": \"el56442121463847736\", \"offsets\": \"data01\", \"pathcoordinates\": \"display\", \"offsetcoordinates\": \"data\", \"alphas\": [0.5], \"edgecolors\": [\"#000000\"], \"facecolors\": [\"#FFE200\", \"#76FF80\", \"#89FF6C\", \"#000084\", \"#FF9F00\", \"#00009A\", \"#42FFB3\", \"#0000FF\", \"#FFAA00\", \"#12FCE4\", \"#FFB100\", \"#46FFB0\", \"#0030FF\", \"#0000FF\", \"#002CFF\", \"#FFE900\", \"#FE1200\", \"#0010FF\", \"#7F0000\", \"#0064FF\", \"#0018FF\", \"#FF6B00\", \"#FF2100\", \"#0010FF\", \"#EC0300\", \"#00BCFF\", \"#C3FF32\", \"#FF5C00\", \"#00A8FF\", \"#4CFFAA\", \"#8DFF69\", \"#880000\", \"#00007F\", \"#E4FF12\", \"#B3FF42\", \"#FF3700\", \"#DA0000\", \"#0098FF\", \"#001CFF\", \"#00007F\", \"#9DFF59\", \"#FF4D00\", \"#FF3400\", \"#FF9000\", \"#0070FF\", \"#DA0000\", \"#FFE900\", \"#70FF86\", \"#C0FF36\", \"#00ACFF\"], \"zorder\": 1, \"pathtransforms\": [[21.115094063260642, 0.0, 0.0, 21.115094063260642, 0.0, 0.0], [12.384328922332047, 0.0, 0.0, 12.384328922332047, 0.0, 0.0], [14.655332232664215, 0.0, 0.0, 14.655332232664215, 0.0, 0.0], [1.9046924371033624, 0.0, 0.0, 1.9046924371033624, 0.0, 0.0], [23.027627157794374, 0.0, 0.0, 23.027627157794374, 0.0, 0.0], [12.317622988285175, 0.0, 0.0, 12.317622988285175, 0.0, 0.0], [1.5073608994363255, 0.0, 0.0, 1.5073608994363255, 0.0, 0.0], [2.034831392651122, 0.0, 0.0, 2.034831392651122, 0.0, 0.0], [1.4818268981106808, 0.0, 0.0, 1.4818268981106808, 0.0, 0.0], [5.684677450090204, 0.0, 0.0, 5.684677450090204, 0.0, 0.0], [25.56761053055127, 0.0, 0.0, 25.56761053055127, 0.0, 0.0], [3.301255880748923, 0.0, 0.0, 3.301255880748923, 0.0, 0.0], [24.183217936484066, 0.0, 0.0, 24.183217936484066, 0.0, 0.0], [1.4779882146969654, 0.0, 0.0, 1.4779882146969654, 0.0, 0.0], [22.564939079342018, 0.0, 0.0, 22.564939079342018, 0.0, 0.0], [4.506470963213327, 0.0, 0.0, 4.506470963213327, 0.0, 0.0], [22.73390274553044, 0.0, 0.0, 22.73390274553044, 0.0, 0.0], [6.739662630109336, 0.0, 0.0, 6.739662630109336, 0.0, 0.0], [13.036859648422368, 0.0, 0.0, 13.036859648422368, 0.0, 0.0], [0.5058601572184279, 0.0, 0.0, 0.5058601572184279, 0.0, 0.0], [14.817845478172579, 0.0, 0.0, 14.817845478172579, 0.0, 0.0], [2.5457066770562906, 0.0, 0.0, 2.5457066770562906, 0.0, 0.0], [14.372992468929478, 0.0, 0.0, 14.372992468929478, 0.0, 0.0], [17.185539254755795, 0.0, 0.0, 17.185539254755795, 0.0, 0.0], [12.789752759983786, 0.0, 0.0, 12.789752759983786, 0.0, 0.0], [7.391874048138019, 0.0, 0.0, 7.391874048138019, 0.0, 0.0], [7.064354176936587, 0.0, 0.0, 7.064354176936587, 0.0, 0.0], [16.21990023944448, 0.0, 0.0, 16.21990023944448, 0.0, 0.0], [14.372133460107587, 0.0, 0.0, 14.372133460107587, 0.0, 0.0], [24.487958179135628, 0.0, 0.0, 24.487958179135628, 0.0, 0.0], [1.3467991470210805, 0.0, 0.0, 1.3467991470210805, 0.0, 0.0], [10.235350450256451, 0.0, 0.0, 10.235350450256451, 0.0, 0.0], [10.488602188115813, 0.0, 0.0, 10.488602188115813, 0.0, 0.0], [2.7260819794476294, 0.0, 0.0, 2.7260819794476294, 0.0, 0.0], [18.93603831133992, 0.0, 0.0, 18.93603831133992, 0.0, 0.0], [4.673702328698526, 0.0, 0.0, 4.673702328698526, 0.0, 0.0], [9.768077124745536, 0.0, 0.0, 9.768077124745536, 0.0, 0.0], [11.701760350699782, 0.0, 0.0, 11.701760350699782, 0.0, 0.0], [20.049783603274996, 0.0, 0.0, 20.049783603274996, 0.0, 0.0], [5.3801313899088505, 0.0, 0.0, 5.3801313899088505, 0.0, 0.0], [5.08921069649173, 0.0, 0.0, 5.08921069649173, 0.0, 0.0], [1.0396502807938415, 0.0, 0.0, 1.0396502807938415, 0.0, 0.0], [24.417513573414368, 0.0, 0.0, 24.417513573414368, 0.0, 0.0], [1.3763316551345506, 0.0, 0.0, 1.3763316551345506, 0.0, 0.0], [7.222618703499843, 0.0, 0.0, 7.222618703499843, 0.0, 0.0], [20.136279006410593, 0.0, 0.0, 20.136279006410593, 0.0, 0.0], [15.019135138305971, 0.0, 0.0, 15.019135138305971, 0.0, 0.0], [23.77046037951558, 0.0, 0.0, 23.77046037951558, 0.0, 0.0], [25.219123136354465, 0.0, 0.0, 25.219123136354465, 0.0, 0.0], [9.323506044913055, 0.0, 0.0, 9.323506044913055, 0.0, 0.0]], \"paths\": [[[[0.0, -0.5], [0.13260155, -0.5], [0.25978993539242673, -0.44731684579412084], [0.3535533905932738, -0.3535533905932738], [0.44731684579412084, -0.25978993539242673], [0.5, -0.13260155], [0.5, 0.0], [0.5, 0.13260155], [0.44731684579412084, 0.25978993539242673], [0.3535533905932738, 0.3535533905932738], [0.25978993539242673, 0.44731684579412084], [0.13260155, 0.5], [0.0, 0.5], [-0.13260155, 0.5], [-0.25978993539242673, 0.44731684579412084], [-0.3535533905932738, 0.3535533905932738], [-0.44731684579412084, 0.25978993539242673], [-0.5, 0.13260155], [-0.5, 0.0], [-0.5, -0.13260155], [-0.44731684579412084, -0.25978993539242673], [-0.3535533905932738, -0.3535533905932738], [-0.25978993539242673, -0.44731684579412084], [-0.13260155, -0.5], [0.0, -0.5]], [\"M\", \"C\", \"C\", \"C\", \"C\", \"C\", \"C\", \"C\", \"C\", \"Z\"]]], \"yindex\": 1, \"xindex\": 0}], \"texts\": [], \"bbox\": [0.125, 0.125, 0.775, 0.775], \"axesbg\": \"#FFFFFF\", \"images\": [], \"xscale\": \"linear\", \"xlim\": [-0.2, 1.2000000000000002], \"xdomain\": [-0.2, 1.2000000000000002], \"id\": \"el56442121463283272\", \"markers\": [], \"ylim\": [-0.2, 1.2000000000000002], \"zoomable\": true, \"ydomain\": [-0.2, 1.2000000000000002], \"paths\": [], \"axesbgalpha\": null}], \"data\": {\"data01\": [[0.14521182523819842, 0.919991492768162], [0.6995890765343502, 0.31630001660858864], [0.9696732294885051, 0.5254700324875277], [0.5170264238124056, 0.5193700259005704], [0.5581233480465749, 0.19642620953633205], [0.8334568302621609, 0.6822669614032592], [0.04989429355492958, 0.5762794035872775], [0.26611713725814734, 0.5313722546140536], [0.44838958508020377, 0.4481592893093568], [0.9916272578703784, 0.9246066186919268], [0.16040333730522693, 0.7676787093631778], [0.6437625823997188, 0.9063010245602043], [0.6001299191533072, 0.6532963394298115], [0.7794966137205356, 0.7937974817253932], [0.28132198189990953, 0.8232046752755723], [0.9362480832563329, 0.6233553104167747], [0.7803642248320465, 0.10761666875325482], [0.30551583819176376, 0.816612664063087], [0.8578778952497907, 0.440231691507998], [0.8634898299039694, 0.44320685082019695], [0.9443227221543841, 0.46332126742199475], [0.864105826321044, 0.5028089496739746], [0.02017251280338006, 0.7545810909908318], [0.8587304432822395, 0.6886838787284911], [0.08190356940645516, 0.9893724668402192], [0.5432382011429636, 0.056184773657455445], [0.6313399747044598, 0.1812806382744896], [0.8530569945660491, 0.9767587700034597], [0.12048566111070103, 0.5595944494668575], [0.3319476002188201, 0.7024449155234206], [0.7751380988302587, 0.5711061284157533], [0.5655528597462606, 0.40277246352613494], [0.538105595295835, 0.7684278150687696], [0.9797875492027108, 0.20502420827858903], [0.8646058123346735, 0.1689129853541863], [0.38784625971556863, 0.9135142117845014], [0.14627278580787018, 0.5145966157978216], [0.4735101844639481, 0.582572106601473], [0.41643627586689425, 0.6351041198271561], [0.5386143020197486, 0.42172164146984914], [0.9065304948736318, 0.5313150233864385], [0.191406843419335, 0.10242519913127146], [0.5126992628293953, 0.11221358715605134], [0.844642947219517, 0.4352023977382755], [0.7693157804711551, 0.5979445120457263], [0.2442302104812637, 0.6865591945156667], [0.10145989576413283, 0.01623028773966606], [0.257522818788817, 0.2493129584553706], [0.8069472714851413, 0.10007060647950439], [0.2878249941465869, 0.6044810082956278]]}, \"id\": \"el56442121463281088\", \"plugins\": [{\"type\": \"reset\"}, {\"button\": true, \"type\": \"zoom\", \"enabled\": false}, {\"button\": true, \"type\": \"boxzoom\", \"enabled\": false}], \"width\": 432.0, \"height\": 288.0});\n",
       "            })\n",
       "         });\n",
       "}\n",
       "</script>"
      ],
      "text/plain": [
       "<matplotlib.figure.Figure at 0x1edf110b5c0>"
      ]
     },
     "metadata": {},
     "output_type": "display_data"
    }
   ],
   "source": [
    "\"\"\"\n",
    "Simple demo of a scatter plot.\n",
    "\"\"\"\n",
    "import numpy as np\n",
    "import matplotlib.pyplot as plt\n",
    "\n",
    "\n",
    "N = 50\n",
    "x = np.random.rand(N)\n",
    "y = np.random.rand(N)\n",
    "colors = np.random.rand(N)\n",
    "area = np.pi * (15 * np.random.rand(N))**2  # 0 to 15 point radii\n",
    "\n",
    "plt.scatter(x, y, s=area, c=colors, alpha=0.5)\n",
    "plt.show()"
   ]
  },
  {
   "cell_type": "code",
   "execution_count": 9,
   "metadata": {
    "collapsed": false
   },
   "outputs": [
    {
     "data": {
      "text/html": [
       "<iframe src=\"https://aoonk.nl\">"
      ],
      "text/plain": [
       "<IPython.core.display.HTML object>"
      ]
     },
     "metadata": {},
     "output_type": "display_data"
    }
   ],
   "source": [
    "%%html\n",
    "<iframe src=\"https://aoonk.nl\">"
   ]
  },
  {
   "cell_type": "code",
   "execution_count": 10,
   "metadata": {
    "collapsed": false
   },
   "outputs": [
    {
     "data": {
      "text/html": [
       "<div>\n",
       "<table border=\"1\" class=\"dataframe\">\n",
       "  <thead>\n",
       "    <tr style=\"text-align: right;\">\n",
       "      <th></th>\n",
       "      <th>0</th>\n",
       "      <th>1</th>\n",
       "      <th>2</th>\n",
       "      <th>3</th>\n",
       "      <th>4</th>\n",
       "    </tr>\n",
       "  </thead>\n",
       "  <tbody>\n",
       "    <tr>\n",
       "      <th>0</th>\n",
       "      <td>0.269846</td>\n",
       "      <td>0.635864</td>\n",
       "      <td>0.980834</td>\n",
       "      <td>0.192811</td>\n",
       "      <td>0.310405</td>\n",
       "    </tr>\n",
       "    <tr>\n",
       "      <th>1</th>\n",
       "      <td>0.081312</td>\n",
       "      <td>0.917332</td>\n",
       "      <td>0.936597</td>\n",
       "      <td>0.637252</td>\n",
       "      <td>0.072634</td>\n",
       "    </tr>\n",
       "    <tr>\n",
       "      <th>2</th>\n",
       "      <td>0.510158</td>\n",
       "      <td>0.133531</td>\n",
       "      <td>0.485371</td>\n",
       "      <td>0.813572</td>\n",
       "      <td>0.252653</td>\n",
       "    </tr>\n",
       "    <tr>\n",
       "      <th>3</th>\n",
       "      <td>0.286670</td>\n",
       "      <td>0.198434</td>\n",
       "      <td>0.007941</td>\n",
       "      <td>0.554815</td>\n",
       "      <td>0.953445</td>\n",
       "    </tr>\n",
       "    <tr>\n",
       "      <th>4</th>\n",
       "      <td>0.476987</td>\n",
       "      <td>0.086342</td>\n",
       "      <td>0.884665</td>\n",
       "      <td>0.098459</td>\n",
       "      <td>0.615412</td>\n",
       "    </tr>\n",
       "    <tr>\n",
       "      <th>5</th>\n",
       "      <td>0.586132</td>\n",
       "      <td>0.282796</td>\n",
       "      <td>0.062851</td>\n",
       "      <td>0.312191</td>\n",
       "      <td>0.148083</td>\n",
       "    </tr>\n",
       "    <tr>\n",
       "      <th>6</th>\n",
       "      <td>0.111349</td>\n",
       "      <td>0.414943</td>\n",
       "      <td>0.232546</td>\n",
       "      <td>0.771449</td>\n",
       "      <td>0.244980</td>\n",
       "    </tr>\n",
       "    <tr>\n",
       "      <th>7</th>\n",
       "      <td>0.419562</td>\n",
       "      <td>0.716700</td>\n",
       "      <td>0.082458</td>\n",
       "      <td>0.070575</td>\n",
       "      <td>0.654985</td>\n",
       "    </tr>\n",
       "    <tr>\n",
       "      <th>8</th>\n",
       "      <td>0.420659</td>\n",
       "      <td>0.803564</td>\n",
       "      <td>0.092900</td>\n",
       "      <td>0.505579</td>\n",
       "      <td>0.252035</td>\n",
       "    </tr>\n",
       "    <tr>\n",
       "      <th>9</th>\n",
       "      <td>0.392448</td>\n",
       "      <td>0.653819</td>\n",
       "      <td>0.175104</td>\n",
       "      <td>0.088173</td>\n",
       "      <td>0.970425</td>\n",
       "    </tr>\n",
       "  </tbody>\n",
       "</table>\n",
       "</div>"
      ],
      "text/plain": [
       "          0         1         2         3         4\n",
       "0  0.269846  0.635864  0.980834  0.192811  0.310405\n",
       "1  0.081312  0.917332  0.936597  0.637252  0.072634\n",
       "2  0.510158  0.133531  0.485371  0.813572  0.252653\n",
       "3  0.286670  0.198434  0.007941  0.554815  0.953445\n",
       "4  0.476987  0.086342  0.884665  0.098459  0.615412\n",
       "5  0.586132  0.282796  0.062851  0.312191  0.148083\n",
       "6  0.111349  0.414943  0.232546  0.771449  0.244980\n",
       "7  0.419562  0.716700  0.082458  0.070575  0.654985\n",
       "8  0.420659  0.803564  0.092900  0.505579  0.252035\n",
       "9  0.392448  0.653819  0.175104  0.088173  0.970425"
      ]
     },
     "execution_count": 10,
     "metadata": {},
     "output_type": "execute_result"
    }
   ],
   "source": [
    "import pandas as pd\n",
    "import numpy as np\n",
    "\n",
    "df = pd.DataFrame(np.random.rand(10,5))\n",
    "df"
   ]
  },
  {
   "cell_type": "code",
   "execution_count": 11,
   "metadata": {
    "collapsed": false
   },
   "outputs": [
    {
     "data": {
      "application/json": {
       "cell": {
        "!": "OSMagics",
        "HTML": "Other",
        "SVG": "Other",
        "bash": "Other",
        "capture": "ExecutionMagics",
        "cmd": "Other",
        "debug": "ExecutionMagics",
        "file": "Other",
        "html": "DisplayMagics",
        "javascript": "DisplayMagics",
        "js": "DisplayMagics",
        "latex": "DisplayMagics",
        "perl": "Other",
        "prun": "ExecutionMagics",
        "pypy": "Other",
        "python": "Other",
        "python2": "Other",
        "python3": "Other",
        "ruby": "Other",
        "script": "ScriptMagics",
        "sh": "Other",
        "svg": "DisplayMagics",
        "sx": "OSMagics",
        "system": "OSMagics",
        "time": "ExecutionMagics",
        "timeit": "ExecutionMagics",
        "writefile": "OSMagics"
       },
       "line": {
        "alias": "OSMagics",
        "alias_magic": "BasicMagics",
        "autocall": "AutoMagics",
        "automagic": "AutoMagics",
        "autosave": "KernelMagics",
        "bookmark": "OSMagics",
        "cd": "OSMagics",
        "clear": "KernelMagics",
        "cls": "KernelMagics",
        "colors": "BasicMagics",
        "config": "ConfigMagics",
        "connect_info": "KernelMagics",
        "copy": "Other",
        "ddir": "Other",
        "debug": "ExecutionMagics",
        "dhist": "OSMagics",
        "dirs": "OSMagics",
        "doctest_mode": "BasicMagics",
        "echo": "Other",
        "ed": "Other",
        "edit": "KernelMagics",
        "env": "OSMagics",
        "gui": "BasicMagics",
        "hist": "Other",
        "history": "HistoryMagics",
        "killbgscripts": "ScriptMagics",
        "ldir": "Other",
        "less": "KernelMagics",
        "load": "CodeMagics",
        "load_ext": "ExtensionMagics",
        "loadpy": "CodeMagics",
        "logoff": "LoggingMagics",
        "logon": "LoggingMagics",
        "logstart": "LoggingMagics",
        "logstate": "LoggingMagics",
        "logstop": "LoggingMagics",
        "ls": "Other",
        "lsmagic": "BasicMagics",
        "macro": "ExecutionMagics",
        "magic": "BasicMagics",
        "matplotlib": "PylabMagics",
        "mkdir": "Other",
        "more": "KernelMagics",
        "notebook": "BasicMagics",
        "page": "BasicMagics",
        "pastebin": "CodeMagics",
        "pdb": "ExecutionMagics",
        "pdef": "NamespaceMagics",
        "pdoc": "NamespaceMagics",
        "pfile": "NamespaceMagics",
        "pinfo": "NamespaceMagics",
        "pinfo2": "NamespaceMagics",
        "popd": "OSMagics",
        "pprint": "BasicMagics",
        "precision": "BasicMagics",
        "profile": "BasicMagics",
        "prun": "ExecutionMagics",
        "psearch": "NamespaceMagics",
        "psource": "NamespaceMagics",
        "pushd": "OSMagics",
        "pwd": "OSMagics",
        "pycat": "OSMagics",
        "pylab": "PylabMagics",
        "qtconsole": "KernelMagics",
        "quickref": "BasicMagics",
        "recall": "HistoryMagics",
        "rehashx": "OSMagics",
        "reload_ext": "ExtensionMagics",
        "ren": "Other",
        "rep": "Other",
        "rerun": "HistoryMagics",
        "reset": "NamespaceMagics",
        "reset_selective": "NamespaceMagics",
        "rmdir": "Other",
        "run": "ExecutionMagics",
        "save": "CodeMagics",
        "sc": "OSMagics",
        "set_env": "OSMagics",
        "store": "StoreMagics",
        "sx": "OSMagics",
        "system": "OSMagics",
        "tb": "ExecutionMagics",
        "time": "ExecutionMagics",
        "timeit": "ExecutionMagics",
        "unalias": "OSMagics",
        "unload_ext": "ExtensionMagics",
        "who": "NamespaceMagics",
        "who_ls": "NamespaceMagics",
        "whos": "NamespaceMagics",
        "xdel": "NamespaceMagics",
        "xmode": "BasicMagics"
       }
      },
      "text/plain": [
       "Available line magics:\n",
       "%alias  %alias_magic  %autocall  %automagic  %autosave  %bookmark  %cd  %clear  %cls  %colors  %config  %connect_info  %copy  %ddir  %debug  %dhist  %dirs  %doctest_mode  %echo  %ed  %edit  %env  %gui  %hist  %history  %killbgscripts  %ldir  %less  %load  %load_ext  %loadpy  %logoff  %logon  %logstart  %logstate  %logstop  %ls  %lsmagic  %macro  %magic  %matplotlib  %mkdir  %more  %notebook  %page  %pastebin  %pdb  %pdef  %pdoc  %pfile  %pinfo  %pinfo2  %popd  %pprint  %precision  %profile  %prun  %psearch  %psource  %pushd  %pwd  %pycat  %pylab  %qtconsole  %quickref  %recall  %rehashx  %reload_ext  %ren  %rep  %rerun  %reset  %reset_selective  %rmdir  %run  %save  %sc  %set_env  %store  %sx  %system  %tb  %time  %timeit  %unalias  %unload_ext  %who  %who_ls  %whos  %xdel  %xmode\n",
       "\n",
       "Available cell magics:\n",
       "%%!  %%HTML  %%SVG  %%bash  %%capture  %%cmd  %%debug  %%file  %%html  %%javascript  %%js  %%latex  %%perl  %%prun  %%pypy  %%python  %%python2  %%python3  %%ruby  %%script  %%sh  %%svg  %%sx  %%system  %%time  %%timeit  %%writefile\n",
       "\n",
       "Automagic is ON, % prefix IS NOT needed for line magics."
      ]
     },
     "execution_count": 11,
     "metadata": {},
     "output_type": "execute_result"
    }
   ],
   "source": [
    "%lsmagic"
   ]
  },
  {
   "cell_type": "code",
   "execution_count": 12,
   "metadata": {
    "collapsed": false
   },
   "outputs": [
    {
     "name": "stderr",
     "output_type": "stream",
     "text": [
      "C:\\Users\\zerok\\Anaconda342\\lib\\site-packages\\ipywidgets\\widgets\\widget.py:166: DeprecationWarning: Widget._keys_default is deprecated in traitlets 4.1: use @default decorator instead.\n",
      "  def _keys_default(self):\n"
     ]
    }
   ],
   "source": [
    "from ipywidgets import widgets\n",
    "from IPython.display import display\n",
    "text = widgets.Text()\n",
    "display(text)\n",
    "\n",
    "def handle_submit(sender):\n",
    "    print(text.value)\n",
    "\n",
    "text.on_submit(handle_submit)"
   ]
  },
  {
   "cell_type": "code",
   "execution_count": 13,
   "metadata": {
    "collapsed": false
   },
   "outputs": [],
   "source": [
    "button = widgets.Button(description='Click me!')\n",
    "display(button)\n",
    "\n",
    "def on_button_clicked(b):\n",
    "    print('Button clicked')\n",
    "    \n",
    "button.on_click(on_button_clicked)"
   ]
  },
  {
   "cell_type": "code",
   "execution_count": 14,
   "metadata": {
    "collapsed": false
   },
   "outputs": [
    {
     "name": "stdout",
     "output_type": "stream",
     "text": [
      "True\n"
     ]
    },
    {
     "data": {
      "text/plain": [
       "<function __main__.f>"
      ]
     },
     "execution_count": 14,
     "metadata": {},
     "output_type": "execute_result"
    }
   ],
   "source": [
    "def f(x):\n",
    "    print(x)\n",
    "widgets.interact(f, x=10)\n",
    "widgets.interact(f, x=True)"
   ]
  },
  {
   "cell_type": "code",
   "execution_count": 15,
   "metadata": {
    "collapsed": false
   },
   "outputs": [
    {
     "data": {
      "image/png": "[encoded data removed]",
      "text/html": [
       "\n",
       "\n",
       "<style>\n",
       "\n",
       "</style>\n",
       "\n",
       "<div id=\"fig_el564421214998103922837156899\"></div>\n",
       "<script>\n",
       "function mpld3_load_lib(url, callback){\n",
       "  var s = document.createElement('script');\n",
       "  s.src = url;\n",
       "  s.async = true;\n",
       "  s.onreadystatechange = s.onload = callback;\n",
       "  s.onerror = function(){console.warn(\"failed to load library \" + url);};\n",
       "  document.getElementsByTagName(\"head\")[0].appendChild(s);\n",
       "}\n",
       "\n",
       "if(typeof(mpld3) !== \"undefined\" && mpld3._mpld3IsLoaded){\n",
       "   // already loaded: just create the figure\n",
       "   !function(mpld3){\n",
       "       \n",
       "       mpld3.draw_figure(\"fig_el564421214998103922837156899\", {\"axes\": [{\"lines\": [{\"data\": \"data01\", \"id\": \"el56442121463771088\", \"zorder\": 2, \"coordinates\": \"data\", \"dasharray\": \"10,0\", \"linewidth\": 2.0, \"color\": \"#0000FF\", \"yindex\": 1, \"alpha\": 1, \"xindex\": 0}], \"sharey\": [], \"sharex\": [], \"yscale\": \"linear\", \"axes\": [{\"scale\": \"linear\", \"grid\": {\"gridOn\": false}, \"nticks\": 6, \"fontsize\": 14.0, \"tickformat\": null, \"tickvalues\": null, \"position\": \"bottom\"}, {\"scale\": \"linear\", \"grid\": {\"gridOn\": false}, \"nticks\": 5, \"fontsize\": 14.0, \"tickformat\": null, \"tickvalues\": null, \"position\": \"left\"}], \"collections\": [], \"texts\": [], \"bbox\": [0.125, 0.125, 0.775, 0.775], \"axesbg\": \"#FFFFFF\", \"images\": [], \"xscale\": \"linear\", \"xlim\": [0.0, 1.0], \"xdomain\": [0.0, 1.0], \"id\": \"el56442121482829048\", \"markers\": [], \"ylim\": [-1.0, 1.0], \"zoomable\": true, \"ydomain\": [-1.0, 1.0], \"paths\": [], \"axesbgalpha\": null}], \"data\": {\"data01\": [[0.0, 0.0], [0.01, 0.3971478906347806], [0.02, 0.7289686274214116], [0.03, 0.9408807689542255], [0.04, 0.9980267284282716], [0.05, 0.8910065241883679], [0.06, 0.6374239897486899], [0.07, 0.2789911060392291], [0.08, -0.12533323356430429], [0.09, -0.5090414157503712], [0.1, -0.8090169943749473], [0.11, -0.9759167619387472], [0.12, -0.9822872507286887], [0.13, -0.8270805742745618], [0.14, -0.5358267949789963], [0.15, -0.1564344650402311], [0.16, 0.24868988716485488], [0.17, 0.6129070536529776], [0.18, 0.8763066800438636], [0.19, 0.99556196460308], [0.2, 0.9510565162951536], [0.21, 0.7501110696304601], [0.22, 0.42577929156507394], [0.23, 0.03141075907812848], [0.24, -0.36812455268467725], [0.25, -0.7071067811865479], [0.26, -0.9297764858882513], [0.27, -0.9995065603657315], [0.28, -0.9048270524660192], [0.29, -0.6613118653236532], [0.3, -0.3090169943749479], [0.31, 0.09410831331851506], [0.32, 0.48175367410171543], [0.33, 0.7901550123756912], [0.34, 0.9685831611286317], [0.35000000000000003, 0.987688340595138], [0.36, 0.8443279255020152], [0.37, 0.5620833778521298], [0.38, 0.18738131458572593], [0.39, -0.21814324139654073], [0.4, -0.5877852522924726], [0.41000000000000003, -0.860742027003943], [0.42, -0.9921147013144777], [0.43, -0.9602936856769437], [0.44, -0.770513242775791], [0.45, -0.45399049973954664], [0.46, -0.06279051952931375], [0.47000000000000003, 0.33873792024529054], [0.48, 0.6845471059286876], [0.49, 0.9177546256839804], [0.5, 1.0], [0.51, 0.9177546256839809], [0.52, 0.6845471059286887], [0.53, 0.33873792024529203], [0.54, -0.0627905195293157], [0.55, -0.4539904997395484], [0.56, -0.77051324277579], [0.5700000000000001, -0.9602936856769433], [0.58, -0.9921147013144782], [0.59, -0.8607420270039439], [0.6, -0.5877852522924739], [0.61, -0.218143241396544], [0.62, 0.1873813145857261], [0.63, 0.5620833778521285], [0.64, 0.8443279255020153], [0.65, 0.9876883405951377], [0.66, 0.9685831611286304], [0.67, 0.7901550123756912], [0.68, 0.4817536741017106], [0.6900000000000001, 0.09410831331851312], [0.7000000000000001, -0.3090169943749447], [0.71, -0.6613118653236493], [0.72, -0.9048270524660194], [0.73, -0.9995065603657315], [0.74, -0.9297764858882507], [0.75, -0.707106781186549], [0.76, -0.3681245526846804], [0.77, 0.03141075907812867], [0.78, 0.4257792915650693], [0.79, 0.750111069630459], [0.8, 0.9510565162951532], [0.81, 0.9955619646030796], [0.8200000000000001, 0.8763066800438647], [0.8300000000000001, 0.6129070536529732], [0.84, 0.24868988716485815], [0.85, -0.1564344650402269], [0.86, -0.5358267949789928], [0.87, -0.8270805742745629], [0.88, -0.9822872507286876], [0.89, -0.9759167619387472], [0.9, -0.8090169943749472], [0.91, -0.5090414157503714], [0.92, -0.12533323356430498], [0.93, 0.2789911060392348], [0.9400000000000001, 0.6374239897486883], [0.9500000000000001, 0.8910065241883668], [0.96, 0.9980267284282713], [0.97, 0.9408807689542267], [0.98, 0.7289686274214143], [0.99, 0.3971478906347783]]}, \"id\": \"el56442121499810392\", \"plugins\": [{\"type\": \"reset\"}, {\"button\": true, \"type\": \"zoom\", \"enabled\": false}, {\"button\": true, \"type\": \"boxzoom\", \"enabled\": false}], \"width\": 432.0, \"height\": 288.0});\n",
       "   }(mpld3);\n",
       "}else if(typeof define === \"function\" && define.amd){\n",
       "   // require.js is available: use it to load d3/mpld3\n",
       "   require.config({paths: {d3: \"https://mpld3.github.io/js/d3.v3.min\"}});\n",
       "   require([\"d3\"], function(d3){\n",
       "      window.d3 = d3;\n",
       "      mpld3_load_lib(\"https://mpld3.github.io/js/mpld3.v0.2.js\", function(){\n",
       "         \n",
       "         mpld3.draw_figure(\"fig_el564421214998103922837156899\", {\"axes\": [{\"lines\": [{\"data\": \"data01\", \"id\": \"el56442121463771088\", \"zorder\": 2, \"coordinates\": \"data\", \"dasharray\": \"10,0\", \"linewidth\": 2.0, \"color\": \"#0000FF\", \"yindex\": 1, \"alpha\": 1, \"xindex\": 0}], \"sharey\": [], \"sharex\": [], \"yscale\": \"linear\", \"axes\": [{\"scale\": \"linear\", \"grid\": {\"gridOn\": false}, \"nticks\": 6, \"fontsize\": 14.0, \"tickformat\": null, \"tickvalues\": null, \"position\": \"bottom\"}, {\"scale\": \"linear\", \"grid\": {\"gridOn\": false}, \"nticks\": 5, \"fontsize\": 14.0, \"tickformat\": null, \"tickvalues\": null, \"position\": \"left\"}], \"collections\": [], \"texts\": [], \"bbox\": [0.125, 0.125, 0.775, 0.775], \"axesbg\": \"#FFFFFF\", \"images\": [], \"xscale\": \"linear\", \"xlim\": [0.0, 1.0], \"xdomain\": [0.0, 1.0], \"id\": \"el56442121482829048\", \"markers\": [], \"ylim\": [-1.0, 1.0], \"zoomable\": true, \"ydomain\": [-1.0, 1.0], \"paths\": [], \"axesbgalpha\": null}], \"data\": {\"data01\": [[0.0, 0.0], [0.01, 0.3971478906347806], [0.02, 0.7289686274214116], [0.03, 0.9408807689542255], [0.04, 0.9980267284282716], [0.05, 0.8910065241883679], [0.06, 0.6374239897486899], [0.07, 0.2789911060392291], [0.08, -0.12533323356430429], [0.09, -0.5090414157503712], [0.1, -0.8090169943749473], [0.11, -0.9759167619387472], [0.12, -0.9822872507286887], [0.13, -0.8270805742745618], [0.14, -0.5358267949789963], [0.15, -0.1564344650402311], [0.16, 0.24868988716485488], [0.17, 0.6129070536529776], [0.18, 0.8763066800438636], [0.19, 0.99556196460308], [0.2, 0.9510565162951536], [0.21, 0.7501110696304601], [0.22, 0.42577929156507394], [0.23, 0.03141075907812848], [0.24, -0.36812455268467725], [0.25, -0.7071067811865479], [0.26, -0.9297764858882513], [0.27, -0.9995065603657315], [0.28, -0.9048270524660192], [0.29, -0.6613118653236532], [0.3, -0.3090169943749479], [0.31, 0.09410831331851506], [0.32, 0.48175367410171543], [0.33, 0.7901550123756912], [0.34, 0.9685831611286317], [0.35000000000000003, 0.987688340595138], [0.36, 0.8443279255020152], [0.37, 0.5620833778521298], [0.38, 0.18738131458572593], [0.39, -0.21814324139654073], [0.4, -0.5877852522924726], [0.41000000000000003, -0.860742027003943], [0.42, -0.9921147013144777], [0.43, -0.9602936856769437], [0.44, -0.770513242775791], [0.45, -0.45399049973954664], [0.46, -0.06279051952931375], [0.47000000000000003, 0.33873792024529054], [0.48, 0.6845471059286876], [0.49, 0.9177546256839804], [0.5, 1.0], [0.51, 0.9177546256839809], [0.52, 0.6845471059286887], [0.53, 0.33873792024529203], [0.54, -0.0627905195293157], [0.55, -0.4539904997395484], [0.56, -0.77051324277579], [0.5700000000000001, -0.9602936856769433], [0.58, -0.9921147013144782], [0.59, -0.8607420270039439], [0.6, -0.5877852522924739], [0.61, -0.218143241396544], [0.62, 0.1873813145857261], [0.63, 0.5620833778521285], [0.64, 0.8443279255020153], [0.65, 0.9876883405951377], [0.66, 0.9685831611286304], [0.67, 0.7901550123756912], [0.68, 0.4817536741017106], [0.6900000000000001, 0.09410831331851312], [0.7000000000000001, -0.3090169943749447], [0.71, -0.6613118653236493], [0.72, -0.9048270524660194], [0.73, -0.9995065603657315], [0.74, -0.9297764858882507], [0.75, -0.707106781186549], [0.76, -0.3681245526846804], [0.77, 0.03141075907812867], [0.78, 0.4257792915650693], [0.79, 0.750111069630459], [0.8, 0.9510565162951532], [0.81, 0.9955619646030796], [0.8200000000000001, 0.8763066800438647], [0.8300000000000001, 0.6129070536529732], [0.84, 0.24868988716485815], [0.85, -0.1564344650402269], [0.86, -0.5358267949789928], [0.87, -0.8270805742745629], [0.88, -0.9822872507286876], [0.89, -0.9759167619387472], [0.9, -0.8090169943749472], [0.91, -0.5090414157503714], [0.92, -0.12533323356430498], [0.93, 0.2789911060392348], [0.9400000000000001, 0.6374239897486883], [0.9500000000000001, 0.8910065241883668], [0.96, 0.9980267284282713], [0.97, 0.9408807689542267], [0.98, 0.7289686274214143], [0.99, 0.3971478906347783]]}, \"id\": \"el56442121499810392\", \"plugins\": [{\"type\": \"reset\"}, {\"button\": true, \"type\": \"zoom\", \"enabled\": false}, {\"button\": true, \"type\": \"boxzoom\", \"enabled\": false}], \"width\": 432.0, \"height\": 288.0});\n",
       "      });\n",
       "    });\n",
       "}else{\n",
       "    // require.js not available: dynamically load d3 & mpld3\n",
       "    mpld3_load_lib(\"https://mpld3.github.io/js/d3.v3.min.js\", function(){\n",
       "         mpld3_load_lib(\"https://mpld3.github.io/js/mpld3.v0.2.js\", function(){\n",
       "                 \n",
       "                 mpld3.draw_figure(\"fig_el564421214998103922837156899\", {\"axes\": [{\"lines\": [{\"data\": \"data01\", \"id\": \"el56442121463771088\", \"zorder\": 2, \"coordinates\": \"data\", \"dasharray\": \"10,0\", \"linewidth\": 2.0, \"color\": \"#0000FF\", \"yindex\": 1, \"alpha\": 1, \"xindex\": 0}], \"sharey\": [], \"sharex\": [], \"yscale\": \"linear\", \"axes\": [{\"scale\": \"linear\", \"grid\": {\"gridOn\": false}, \"nticks\": 6, \"fontsize\": 14.0, \"tickformat\": null, \"tickvalues\": null, \"position\": \"bottom\"}, {\"scale\": \"linear\", \"grid\": {\"gridOn\": false}, \"nticks\": 5, \"fontsize\": 14.0, \"tickformat\": null, \"tickvalues\": null, \"position\": \"left\"}], \"collections\": [], \"texts\": [], \"bbox\": [0.125, 0.125, 0.775, 0.775], \"axesbg\": \"#FFFFFF\", \"images\": [], \"xscale\": \"linear\", \"xlim\": [0.0, 1.0], \"xdomain\": [0.0, 1.0], \"id\": \"el56442121482829048\", \"markers\": [], \"ylim\": [-1.0, 1.0], \"zoomable\": true, \"ydomain\": [-1.0, 1.0], \"paths\": [], \"axesbgalpha\": null}], \"data\": {\"data01\": [[0.0, 0.0], [0.01, 0.3971478906347806], [0.02, 0.7289686274214116], [0.03, 0.9408807689542255], [0.04, 0.9980267284282716], [0.05, 0.8910065241883679], [0.06, 0.6374239897486899], [0.07, 0.2789911060392291], [0.08, -0.12533323356430429], [0.09, -0.5090414157503712], [0.1, -0.8090169943749473], [0.11, -0.9759167619387472], [0.12, -0.9822872507286887], [0.13, -0.8270805742745618], [0.14, -0.5358267949789963], [0.15, -0.1564344650402311], [0.16, 0.24868988716485488], [0.17, 0.6129070536529776], [0.18, 0.8763066800438636], [0.19, 0.99556196460308], [0.2, 0.9510565162951536], [0.21, 0.7501110696304601], [0.22, 0.42577929156507394], [0.23, 0.03141075907812848], [0.24, -0.36812455268467725], [0.25, -0.7071067811865479], [0.26, -0.9297764858882513], [0.27, -0.9995065603657315], [0.28, -0.9048270524660192], [0.29, -0.6613118653236532], [0.3, -0.3090169943749479], [0.31, 0.09410831331851506], [0.32, 0.48175367410171543], [0.33, 0.7901550123756912], [0.34, 0.9685831611286317], [0.35000000000000003, 0.987688340595138], [0.36, 0.8443279255020152], [0.37, 0.5620833778521298], [0.38, 0.18738131458572593], [0.39, -0.21814324139654073], [0.4, -0.5877852522924726], [0.41000000000000003, -0.860742027003943], [0.42, -0.9921147013144777], [0.43, -0.9602936856769437], [0.44, -0.770513242775791], [0.45, -0.45399049973954664], [0.46, -0.06279051952931375], [0.47000000000000003, 0.33873792024529054], [0.48, 0.6845471059286876], [0.49, 0.9177546256839804], [0.5, 1.0], [0.51, 0.9177546256839809], [0.52, 0.6845471059286887], [0.53, 0.33873792024529203], [0.54, -0.0627905195293157], [0.55, -0.4539904997395484], [0.56, -0.77051324277579], [0.5700000000000001, -0.9602936856769433], [0.58, -0.9921147013144782], [0.59, -0.8607420270039439], [0.6, -0.5877852522924739], [0.61, -0.218143241396544], [0.62, 0.1873813145857261], [0.63, 0.5620833778521285], [0.64, 0.8443279255020153], [0.65, 0.9876883405951377], [0.66, 0.9685831611286304], [0.67, 0.7901550123756912], [0.68, 0.4817536741017106], [0.6900000000000001, 0.09410831331851312], [0.7000000000000001, -0.3090169943749447], [0.71, -0.6613118653236493], [0.72, -0.9048270524660194], [0.73, -0.9995065603657315], [0.74, -0.9297764858882507], [0.75, -0.707106781186549], [0.76, -0.3681245526846804], [0.77, 0.03141075907812867], [0.78, 0.4257792915650693], [0.79, 0.750111069630459], [0.8, 0.9510565162951532], [0.81, 0.9955619646030796], [0.8200000000000001, 0.8763066800438647], [0.8300000000000001, 0.6129070536529732], [0.84, 0.24868988716485815], [0.85, -0.1564344650402269], [0.86, -0.5358267949789928], [0.87, -0.8270805742745629], [0.88, -0.9822872507286876], [0.89, -0.9759167619387472], [0.9, -0.8090169943749472], [0.91, -0.5090414157503714], [0.92, -0.12533323356430498], [0.93, 0.2789911060392348], [0.9400000000000001, 0.6374239897486883], [0.9500000000000001, 0.8910065241883668], [0.96, 0.9980267284282713], [0.97, 0.9408807689542267], [0.98, 0.7289686274214143], [0.99, 0.3971478906347783]]}, \"id\": \"el56442121499810392\", \"plugins\": [{\"type\": \"reset\"}, {\"button\": true, \"type\": \"zoom\", \"enabled\": false}, {\"button\": true, \"type\": \"boxzoom\", \"enabled\": false}], \"width\": 432.0, \"height\": 288.0});\n",
       "            })\n",
       "         });\n",
       "}\n",
       "</script>"
      ],
      "text/plain": [
       "<matplotlib.figure.Figure at 0x1edf33e1a58>"
      ]
     },
     "metadata": {},
     "output_type": "display_data"
    }
   ],
   "source": [
    "t = np.arange(0.0, 1.0, 0.01)\n",
    "\n",
    "def plot_sin(f):\n",
    "    plt.xkcd()\n",
    "    plt.plot(t, np.sin(2*np.pi*t*f))\n",
    "    plt.show()\n",
    "\n",
    "widgets.interact(plot_sin, f=(1,10,0.1))"
   ]
  }
 ],
 "metadata": {
  "anaconda-cloud": {},
  "kernelspec": {
   "display_name": "Python [default]",
   "language": "python",
   "name": "python3"
  },
  "language_info": {
   "codemirror_mode": {
    "name": "ipython",
    "version": 3
   },
   "file_extension": ".py",
   "mimetype": "text/x-python",
   "name": "python",
   "nbconvert_exporter": "python",
   "pygments_lexer": "ipython3",
   "version": "3.5.2"
  },
  "widgets": {
   "state": {
    "217574ea67be4e1b9a1a14dca8489bab": {
     "views": [
      {
       "cell_index": 13
      }
     ]
    },
    "30008f795e33452683a85dba2c489305": {
     "views": [
      {
       "cell_index": 12
      }
     ]
    },
    "6bef37e3d1944b2a96c75e3eb6a2dc73": {
     "views": [
      {
       "cell_index": 14
      }
     ]
    },
    "8bb6ae3e932c4069893cd4a138f56753": {
     "views": [
      {
       "cell_index": 13
      }
     ]
    },
    "b5c2e26cda884848b08980efb1dac384": {
     "views": [
      {
       "cell_index": 11
      }
     ]
    }
   },
   "version": "1.2.0"
  }
 },
 "nbformat": 4,
 "nbformat_minor": 1
}
